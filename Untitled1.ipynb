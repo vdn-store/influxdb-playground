{
 "cells": [
  {
   "cell_type": "code",
   "execution_count": 12,
   "metadata": {},
   "outputs": [],
   "source": [
    "from influxdb import InfluxDBClient\n",
    "from datetime import datetime"
   ]
  },
  {
   "cell_type": "code",
   "execution_count": 20,
   "metadata": {},
   "outputs": [],
   "source": [
    "json_body = [\n",
    "    {\n",
    "        \"measurement\": \"plc01\",\n",
    "        \"tags\": {\n",
    "            \"status\": \"PURE WATER IN\"\n",
    "        },\n",
    "        \"time\": \"2019-12-02T17:00:00Z\",\n",
    "        \"fields\": {\n",
    "            \"t1\": 80.1,\n",
    "            \"t2\": 80.1,\n",
    "            \"t3\": 80.2,\n",
    "            \"t4\": 80.4,\n",
    "            \"t5\": 80.9,\n",
    "            \"t6\": 78.2,\n",
    "            \"t7\": 85.0,\n",
    "            \"t8\": 86.3,\n",
    "            \"t9\": 81.5,\n",
    "            \"t10\": 41.1,\n",
    "            \"t12\": 43.1,\n",
    "            \"pr\": 4.32\n",
    "        }\n",
    "    }\n",
    "]\n",
    "host='ec2-54-255-190-52.ap-southeast-1.compute.amazonaws.com'\n",
    "port=8086\n",
    "user = 'admin'\n",
    "password = 'mex@123'\n",
    "dbname = 'mex_demo'"
   ]
  },
  {
   "cell_type": "code",
   "execution_count": 21,
   "metadata": {},
   "outputs": [],
   "source": [
    "client = InfluxDBClient(host, port, user, password, dbname)"
   ]
  },
  {
   "cell_type": "code",
   "execution_count": 22,
   "metadata": {},
   "outputs": [],
   "source": [
    "client.create_database(dbname)"
   ]
  },
  {
   "cell_type": "code",
   "execution_count": 23,
   "metadata": {},
   "outputs": [
    {
     "data": {
      "text/plain": [
       "True"
      ]
     },
     "execution_count": 23,
     "metadata": {},
     "output_type": "execute_result"
    }
   ],
   "source": [
    "client.write_points(json_body)"
   ]
  },
  {
   "cell_type": "code",
   "execution_count": 24,
   "metadata": {},
   "outputs": [
    {
     "data": {
      "text/plain": [
       "'2019-12-03T01:09:57Z'"
      ]
     },
     "execution_count": 24,
     "metadata": {},
     "output_type": "execute_result"
    }
   ],
   "source": [
    "datetime.now().strftime('%Y-%m-%dT%H:%M:%SZ')"
   ]
  },
  {
   "cell_type": "code",
   "execution_count": null,
   "metadata": {},
   "outputs": [],
   "source": []
  }
 ],
 "metadata": {
  "kernelspec": {
   "display_name": "Python 3",
   "language": "python",
   "name": "python3"
  },
  "language_info": {
   "codemirror_mode": {
    "name": "ipython",
    "version": 3
   },
   "file_extension": ".py",
   "mimetype": "text/x-python",
   "name": "python",
   "nbconvert_exporter": "python",
   "pygments_lexer": "ipython3",
   "version": "3.7.3"
  }
 },
 "nbformat": 4,
 "nbformat_minor": 2
}
